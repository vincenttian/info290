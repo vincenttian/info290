{
 "metadata": {
  "name": "",
  "signature": "sha256:923e7d62c9be7731b81c2f1fe50be3584578aab10aea337e9914106a36516a48"
 },
 "nbformat": 3,
 "nbformat_minor": 0,
 "worksheets": [
  {
   "cells": [
    {
     "cell_type": "code",
     "collapsed": false,
     "input": [
      "import csv\n",
      "\n",
      "with open('Engineering_CS101_Summer2014.csv', 'rb') as csvfile:\n",
      "    spamreader = csv.reader(csvfile, delimiter=' ', quotechar='|')\n",
      "    for row in spamreader:\n",
      "        print ', '.join(row)"
     ],
     "language": "python",
     "metadata": {},
     "outputs": []
    }
   ],
   "metadata": {}
  }
 ]
}