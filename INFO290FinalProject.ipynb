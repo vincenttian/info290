{
 "metadata": {
  "name": "",
  "signature": "sha256:2bee70b2bb59737334ef131ab35c33853d09decb233cb4041cf38350ec8d3edc"
 },
 "nbformat": 3,
 "nbformat_minor": 0,
 "worksheets": [
  {
   "cells": [
    {
     "cell_type": "code",
     "collapsed": false,
     "input": [
      "import csv\n",
      "\n",
      "with open('Engineering_CS101_Summer2014_Forum.csv', 'rb') as csvfile:\n",
      "    contents = csv.reader(csvfile)\n",
      "    count = 0\n",
      "    \n",
      "    master_dict = dict()\n",
      "    \n",
      "    for row in contents:\n",
      "        if len(row) < 17:\n",
      "            continue\n",
      "        if row[0][0] != '5':\n",
      "            continue\n",
      "        forum_post_id = row[0]\n",
      "        forum_uid = row[6]\n",
      "        comment = row[7]\n",
      "        votes = row[11]\n",
      "        voters = row[14]\n",
      "        comment_thread_id = row[16]\n",
      "        parent_id = row[17]\n",
      "        info = dict()\n",
      "        info['forum_uid'] = forum_uid\n",
      "        info['comment'] = comment\n",
      "        info['votes'] = votes\n",
      "        info['voters'] = voters\n",
      "        info['comment_thread_id'] = comment_thread_id\n",
      "        info['parent_id'] = parent_id\n",
      "        if 'thank' in comment or 'thx' in comment:\n",
      "            info['thanks'] = True\n",
      "        else:\n",
      "            info['thanks'] = False\n",
      "        master_dict[forum_post_id] = info"
     ],
     "language": "python",
     "metadata": {},
     "outputs": [],
     "prompt_number": 2
    },
    {
     "cell_type": "code",
     "collapsed": false,
     "input": [],
     "language": "python",
     "metadata": {},
     "outputs": []
    }
   ],
   "metadata": {}
  }
 ]
}